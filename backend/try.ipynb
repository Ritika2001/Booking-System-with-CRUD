{
 "cells": [
  {
   "cell_type": "code",
   "execution_count": 1,
   "metadata": {},
   "outputs": [],
   "source": [
    "import mysql.connector\n",
    "from flask import Flask, render_template, request\n",
    "import requests\n",
    "import json\n",
    "from flask_cors import CORS\n",
    "from cryptography.fernet import Fernet\n",
    "from datetime import datetime\n",
    "import string\n",
    "from random import choice"
   ]
  },
  {
   "cell_type": "code",
   "execution_count": 2,
   "metadata": {},
   "outputs": [],
   "source": [
    "connection = mysql.connector.connect(user = 'root', password = '123', host='127.0.0.1', port = 3306, database = 'VOA',  connect_timeout=1000)\n",
    "cursor = connection.cursor(dictionary=True)    "
   ]
  },
  {
   "cell_type": "code",
   "execution_count": 19,
   "metadata": {},
   "outputs": [
    {
     "name": "stdout",
     "output_type": "stream",
     "text": [
      "SELECT DISTINCT(payment_id) FROM smk_ticket WHERE group_id = 313;\n"
     ]
    }
   ],
   "source": [
    "query_group = f\"SELECT DISTINCT(payment_id) FROM smk_ticket WHERE group_id = 313;\"\n",
    "print(query_group)     \n",
    "cursor.execute(query_group)\n",
    "data = cursor.fetchone()"
   ]
  },
  {
   "cell_type": "code",
   "execution_count": 21,
   "metadata": {},
   "outputs": [
    {
     "data": {
      "text/plain": [
       "1"
      ]
     },
     "execution_count": 21,
     "metadata": {},
     "output_type": "execute_result"
    }
   ],
   "source": [
    "data['payment_id']"
   ]
  },
  {
   "cell_type": "code",
   "execution_count": 12,
   "metadata": {},
   "outputs": [
    {
     "name": "stdout",
     "output_type": "stream",
     "text": [
      "1 25\n",
      "2 28\n",
      "3 1\n"
     ]
    }
   ],
   "source": [
    "for row in data: \n",
    "    visitor_id = row['visitor_id'] \n",
    "    member = row['member']\n",
    "    dob = row['dob']\n",
    "    age = datetime.today().year - dob.year - ((datetime.today().month, datetime.today().day) < (dob.month, dob.day))\n",
    " \n",
    "    print(visitor_id, age)"
   ]
  },
  {
   "cell_type": "code",
   "execution_count": 7,
   "metadata": {},
   "outputs": [
    {
     "name": "stdout",
     "output_type": "stream",
     "text": [
      "select payment_id from smk_payments where user_id = 1 and payment_date = '2023-05-11';\n"
     ]
    },
    {
     "data": {
      "text/plain": [
       "1"
      ]
     },
     "execution_count": 7,
     "metadata": {},
     "output_type": "execute_result"
    }
   ],
   "source": [
    "query_group = f\"select payment_id from smk_payments where user_id = 1 and payment_date = '2023-05-11';\"\n",
    "print(query_group)     \n",
    "cursor.execute(query_group)\n",
    "payment_id = cursor.fetchone()['payment_id']\n",
    "payment_id"
   ]
  },
  {
   "cell_type": "code",
   "execution_count": 15,
   "metadata": {},
   "outputs": [
    {
     "data": {
      "text/plain": [
       "'{\"group_id\": 1335, \"payment_id\": 1}'"
      ]
     },
     "execution_count": 15,
     "metadata": {},
     "output_type": "execute_result"
    }
   ],
   "source": [
    "json.dumps({'group_id': 1335, 'payment_id': 1})"
   ]
  },
  {
   "cell_type": "code",
   "execution_count": 50,
   "metadata": {},
   "outputs": [],
   "source": [
    "from datetime import time\n",
    "\n",
    "def float_to_time_string(f):\n",
    "    hours, minutes = divmod(int(f * 60), 60)\n",
    "    t = time(hour=hours, minute=minutes)\n",
    "    time_string = t.strftime(\"%H:%M:%S\")\n",
    "    return time_string"
   ]
  },
  {
   "cell_type": "code",
   "execution_count": 32,
   "metadata": {},
   "outputs": [],
   "source": [
    "import jsonify"
   ]
  },
  {
   "cell_type": "code",
   "execution_count": 33,
   "metadata": {},
   "outputs": [
    {
     "ename": "TypeError",
     "evalue": "'module' object is not callable",
     "output_type": "error",
     "traceback": [
      "\u001b[1;31m---------------------------------------------------------------------------\u001b[0m",
      "\u001b[1;31mTypeError\u001b[0m                                 Traceback (most recent call last)",
      "Cell \u001b[1;32mIn[33], line 1\u001b[0m\n\u001b[1;32m----> 1\u001b[0m request \u001b[39m=\u001b[39m jsonify([{\u001b[39m'\u001b[39;49m\u001b[39mparking\u001b[39;49m\u001b[39m'\u001b[39;49m: {\u001b[39m'\u001b[39;49m\u001b[39minTime\u001b[39;49m\u001b[39m'\u001b[39;49m: \u001b[39m'\u001b[39;49m\u001b[39m9.5\u001b[39;49m\u001b[39m'\u001b[39;49m, \u001b[39m'\u001b[39;49m\u001b[39moutTime\u001b[39;49m\u001b[39m'\u001b[39;49m: \u001b[39m'\u001b[39;49m\u001b[39m16\u001b[39;49m\u001b[39m'\u001b[39;49m, \u001b[39m'\u001b[39;49m\u001b[39mparkingPrice\u001b[39;49m\u001b[39m'\u001b[39;49m: \u001b[39m'\u001b[39;49m\u001b[39m'\u001b[39;49m}}])\n",
      "\u001b[1;31mTypeError\u001b[0m: 'module' object is not callable"
     ]
    }
   ],
   "source": [
    "request = [{'parking': {'inTime': '9.5', 'outTime': '16', 'parkingPrice': ''}}]"
   ]
  },
  {
   "cell_type": "code",
   "execution_count": 104,
   "metadata": {},
   "outputs": [
    {
     "name": "stdout",
     "output_type": "stream",
     "text": [
      "52.0\n",
      "{'inTime': '9.5', 'outTime': '16', 'parkingPrice': ''}\n",
      "09:30:00\n",
      "16:00:00\n"
     ]
    }
   ],
   "source": [
    "# query_payment = f\"SELECT DISTINCT(payment_id) FROM smk_ticket WHERE group_id = 323;\"\n",
    "# cursor.execute(query_payment)\n",
    "# data = cursor.fetchone()\n",
    "\n",
    "row = {'inTime': '9.5', 'outTime': '16', 'parkingPrice': ''}\n",
    "parkingPrice = abs((float(row['outTime']) - float(row['inTime'])) * 8)\n",
    "print(parkingPrice)\n",
    "print(row)\n",
    "inTime = float_to_time_string(float(row['inTime']))\n",
    "print(inTime)\n",
    "outTime = float_to_time_string(float(row['outTime']))\n",
    "print(outTime)\n",
    "parkingPrice = row['parkingPrice']"
   ]
  },
  {
   "cell_type": "code",
   "execution_count": 103,
   "metadata": {},
   "outputs": [
    {
     "data": {
      "text/plain": [
       "9.5"
      ]
     },
     "execution_count": 103,
     "metadata": {},
     "output_type": "execute_result"
    }
   ],
   "source": [
    "float(row['inTime'])"
   ]
  },
  {
   "cell_type": "code",
   "execution_count": 53,
   "metadata": {},
   "outputs": [
    {
     "data": {
      "text/plain": [
       "4"
      ]
     },
     "execution_count": 53,
     "metadata": {},
     "output_type": "execute_result"
    }
   ],
   "source": [
    "show_name = 'Defense Against the Dark Arts'\n",
    "show_query = f\"SELECT show_id from smk_shows where show_name = '{show_name}'\"\n",
    "cursor.execute(show_query)\n",
    "cursor.fetchone()['show_id']"
   ]
  },
  {
   "cell_type": "code",
   "execution_count": 54,
   "metadata": {},
   "outputs": [],
   "source": [
    "user_id =1"
   ]
  },
  {
   "cell_type": "code",
   "execution_count": 67,
   "metadata": {},
   "outputs": [
    {
     "name": "stdout",
     "output_type": "stream",
     "text": [
      "SELECT DISTINCT(group_id) FROM smk_ticket WHERE user_id = 1;\n"
     ]
    }
   ],
   "source": [
    "query = f\"SELECT DISTINCT(group_id) FROM smk_ticket WHERE user_id = {user_id};\"\n",
    "print(query)\n",
    "cursor.execute(query)\n",
    "data = cursor.fetchone()"
   ]
  },
  {
   "cell_type": "code",
   "execution_count": 68,
   "metadata": {},
   "outputs": [],
   "source": [
    "group_id = data['group_id']"
   ]
  },
  {
   "cell_type": "code",
   "execution_count": 78,
   "metadata": {},
   "outputs": [
    {
     "name": "stdout",
     "output_type": "stream",
     "text": [
      "SELECT firstName, lastName, tkt_id, tkt_visit_date, tkt_final_price FROM smk_ticket, smk_visitor WHERE smk_ticket.visitor_id = smk_visitor.visitor_id AND smk_ticket.group_id = 313;\n"
     ]
    }
   ],
   "source": [
    "query = f\"SELECT firstName, lastName, tkt_id, tkt_visit_date, tkt_final_price FROM smk_ticket, smk_visitor WHERE smk_ticket.visitor_id = smk_visitor.visitor_id AND smk_ticket.group_id = {group_id};\"\n",
    "print(query)\n",
    "cursor.execute(query)\n",
    "ticket = cursor.fetchall()"
   ]
  },
  {
   "cell_type": "code",
   "execution_count": 79,
   "metadata": {},
   "outputs": [
    {
     "data": {
      "text/plain": [
       "{'group_id': 313,\n",
       " 'ticket': [{'firstName': 'Shashank',\n",
       "   'lastName': 'Shekhar',\n",
       "   'tkt_id': 1,\n",
       "   'tkt_visit_date': datetime.date(2023, 5, 31),\n",
       "   'tkt_final_price': 190.0},\n",
       "  {'firstName': 'Sharad ',\n",
       "   'lastName': 'Tembhurne',\n",
       "   'tkt_id': 2,\n",
       "   'tkt_visit_date': datetime.date(2023, 5, 31),\n",
       "   'tkt_final_price': 190.0},\n",
       "  {'firstName': 'Meet ',\n",
       "   'lastName': 'Diwan',\n",
       "   'tkt_id': 3,\n",
       "   'tkt_visit_date': datetime.date(2023, 5, 31),\n",
       "   'tkt_final_price': 160.0}],\n",
       " 'parking': [{'parking_date': datetime.date(2023, 5, 31),\n",
       "   'park_in_time': datetime.timedelta(seconds=32400),\n",
       "   'park_out_time': datetime.timedelta(seconds=50400),\n",
       "   'parking_fee': Decimal('40.00')}],\n",
       " 'show': [{'show_name': 'Walking with the Dinosaurs 3D',\n",
       "   'start_time': datetime.timedelta(seconds=41400),\n",
       "   'end_time': datetime.timedelta(seconds=46800),\n",
       "   'wc_accessible': 'Y',\n",
       "   'show_date': datetime.date(2023, 10, 24),\n",
       "   'quantity': 2,\n",
       "   'total_price': Decimal('40')},\n",
       "  {'show_name': 'Star Tours: The Adventures Continue',\n",
       "   'start_time': datetime.timedelta(seconds=55800),\n",
       "   'end_time': datetime.timedelta(seconds=61200),\n",
       "   'wc_accessible': 'N',\n",
       "   'show_date': datetime.date(2023, 10, 24),\n",
       "   'quantity': 2,\n",
       "   'total_price': Decimal('40')}]}"
      ]
     },
     "execution_count": 79,
     "metadata": {},
     "output_type": "execute_result"
    }
   ],
   "source": [
    "data['ticket'] = ticket\n",
    "data"
   ]
  },
  {
   "cell_type": "code",
   "execution_count": 80,
   "metadata": {},
   "outputs": [
    {
     "name": "stdout",
     "output_type": "stream",
     "text": [
      "SELECT parking_date, park_in_time, park_out_time, abs(parking_fee) as parking_fee from smk_parking where group_id = 313;\n"
     ]
    }
   ],
   "source": [
    "query = f\"SELECT parking_date, park_in_time, park_out_time, abs(parking_fee) as parking_fee from smk_parking where group_id = {group_id};\"\n",
    "print(query)\n",
    "cursor.execute(query)\n",
    "parking = cursor.fetchall()"
   ]
  },
  {
   "cell_type": "code",
   "execution_count": 81,
   "metadata": {},
   "outputs": [
    {
     "data": {
      "text/plain": [
       "{'group_id': 313,\n",
       " 'ticket': [{'firstName': 'Shashank',\n",
       "   'lastName': 'Shekhar',\n",
       "   'tkt_id': 1,\n",
       "   'tkt_visit_date': datetime.date(2023, 5, 31),\n",
       "   'tkt_final_price': 190.0},\n",
       "  {'firstName': 'Sharad ',\n",
       "   'lastName': 'Tembhurne',\n",
       "   'tkt_id': 2,\n",
       "   'tkt_visit_date': datetime.date(2023, 5, 31),\n",
       "   'tkt_final_price': 190.0},\n",
       "  {'firstName': 'Meet ',\n",
       "   'lastName': 'Diwan',\n",
       "   'tkt_id': 3,\n",
       "   'tkt_visit_date': datetime.date(2023, 5, 31),\n",
       "   'tkt_final_price': 160.0}],\n",
       " 'parking': [{'parking_date': datetime.date(2023, 5, 31),\n",
       "   'park_in_time': datetime.timedelta(seconds=32400),\n",
       "   'park_out_time': datetime.timedelta(seconds=50400),\n",
       "   'parking_fee': Decimal('40.00')}],\n",
       " 'show': [{'show_name': 'Walking with the Dinosaurs 3D',\n",
       "   'start_time': datetime.timedelta(seconds=41400),\n",
       "   'end_time': datetime.timedelta(seconds=46800),\n",
       "   'wc_accessible': 'Y',\n",
       "   'show_date': datetime.date(2023, 10, 24),\n",
       "   'quantity': 2,\n",
       "   'total_price': Decimal('40')},\n",
       "  {'show_name': 'Star Tours: The Adventures Continue',\n",
       "   'start_time': datetime.timedelta(seconds=55800),\n",
       "   'end_time': datetime.timedelta(seconds=61200),\n",
       "   'wc_accessible': 'N',\n",
       "   'show_date': datetime.date(2023, 10, 24),\n",
       "   'quantity': 2,\n",
       "   'total_price': Decimal('40')}]}"
      ]
     },
     "execution_count": 81,
     "metadata": {},
     "output_type": "execute_result"
    }
   ],
   "source": [
    "data['parking'] = parking\n",
    "data"
   ]
  },
  {
   "cell_type": "code",
   "execution_count": 82,
   "metadata": {},
   "outputs": [],
   "source": [
    "cursor.execute('rollback')"
   ]
  },
  {
   "cell_type": "code",
   "execution_count": 83,
   "metadata": {},
   "outputs": [
    {
     "name": "stdout",
     "output_type": "stream",
     "text": [
      "SELECT show_name, start_time, end_time, wc_accessible, show_date, quantity, total_price from smk_show_order, smk_shows WHERE smk_show_order.show_id = smk_shows.show_id AND smk_show_order.group_id = 220;\n"
     ]
    }
   ],
   "source": [
    "query = f\"SELECT show_name, start_time, end_time, wc_accessible, show_date, quantity, total_price from smk_show_order, smk_shows WHERE smk_show_order.show_id = smk_shows.show_id AND smk_show_order.group_id = 220;\"\n",
    "print(query)\n",
    "cursor.execute(query)\n",
    "show = cursor.fetchall()"
   ]
  },
  {
   "cell_type": "code",
   "execution_count": 84,
   "metadata": {},
   "outputs": [
    {
     "data": {
      "text/plain": [
       "{'group_id': 313,\n",
       " 'ticket': [{'firstName': 'Shashank',\n",
       "   'lastName': 'Shekhar',\n",
       "   'tkt_id': 1,\n",
       "   'tkt_visit_date': datetime.date(2023, 5, 31),\n",
       "   'tkt_final_price': 190.0},\n",
       "  {'firstName': 'Sharad ',\n",
       "   'lastName': 'Tembhurne',\n",
       "   'tkt_id': 2,\n",
       "   'tkt_visit_date': datetime.date(2023, 5, 31),\n",
       "   'tkt_final_price': 190.0},\n",
       "  {'firstName': 'Meet ',\n",
       "   'lastName': 'Diwan',\n",
       "   'tkt_id': 3,\n",
       "   'tkt_visit_date': datetime.date(2023, 5, 31),\n",
       "   'tkt_final_price': 160.0}],\n",
       " 'parking': [{'parking_date': datetime.date(2023, 5, 31),\n",
       "   'park_in_time': datetime.timedelta(seconds=32400),\n",
       "   'park_out_time': datetime.timedelta(seconds=50400),\n",
       "   'parking_fee': Decimal('40.00')}],\n",
       " 'show': [{'show_name': 'Walking with the Dinosaurs 3D',\n",
       "   'start_time': datetime.timedelta(seconds=41400),\n",
       "   'end_time': datetime.timedelta(seconds=46800),\n",
       "   'wc_accessible': 'Y',\n",
       "   'show_date': datetime.date(2023, 10, 24),\n",
       "   'quantity': 2,\n",
       "   'total_price': Decimal('40')},\n",
       "  {'show_name': 'Star Tours: The Adventures Continue',\n",
       "   'start_time': datetime.timedelta(seconds=55800),\n",
       "   'end_time': datetime.timedelta(seconds=61200),\n",
       "   'wc_accessible': 'N',\n",
       "   'show_date': datetime.date(2023, 10, 24),\n",
       "   'quantity': 2,\n",
       "   'total_price': Decimal('40')}]}"
      ]
     },
     "execution_count": 84,
     "metadata": {},
     "output_type": "execute_result"
    }
   ],
   "source": [
    "data['show'] = show\n",
    "data"
   ]
  },
  {
   "cell_type": "code",
   "execution_count": 96,
   "metadata": {},
   "outputs": [],
   "source": [
    "total=0\n",
    "subtotal=0"
   ]
  },
  {
   "cell_type": "code",
   "execution_count": 99,
   "metadata": {},
   "outputs": [],
   "source": [
    "total += float(sum(item['parking_fee'] for item in parking))\n",
    "subtotal += total"
   ]
  },
  {
   "cell_type": "code",
   "execution_count": 95,
   "metadata": {},
   "outputs": [
    {
     "data": {
      "text/plain": [
       "Decimal('3040.00')"
      ]
     },
     "execution_count": 95,
     "metadata": {},
     "output_type": "execute_result"
    }
   ],
   "source": [
    "total"
   ]
  },
  {
   "cell_type": "code",
   "execution_count": 97,
   "metadata": {},
   "outputs": [],
   "source": [
    "total += sum(item['tkt_final_price'] for item in ticket)\n",
    "subtotal += 200 * len(ticket)"
   ]
  },
  {
   "cell_type": "code",
   "execution_count": null,
   "metadata": {},
   "outputs": [],
   "source": []
  }
 ],
 "metadata": {
  "kernelspec": {
   "display_name": "Python 3",
   "language": "python",
   "name": "python3"
  },
  "language_info": {
   "codemirror_mode": {
    "name": "ipython",
    "version": 3
   },
   "file_extension": ".py",
   "mimetype": "text/x-python",
   "name": "python",
   "nbconvert_exporter": "python",
   "pygments_lexer": "ipython3",
   "version": "3.10.11"
  },
  "orig_nbformat": 4
 },
 "nbformat": 4,
 "nbformat_minor": 2
}
